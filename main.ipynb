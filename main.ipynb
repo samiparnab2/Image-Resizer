{
 "cells": [
  {
   "cell_type": "code",
   "execution_count": null,
   "metadata": {},
   "outputs": [],
   "source": [
    "import cv2\n",
    "import numpy as np\n",
    "import math\n",
    "import matplotlib.pyplot as plt \n"
   ]
  },
  {
   "cell_type": "code",
   "execution_count": null,
   "metadata": {},
   "outputs": [],
   "source": [
    "import os\n",
    "import logging"
   ]
  },
  {
   "cell_type": "code",
   "execution_count": null,
   "metadata": {},
   "outputs": [],
   "source": []
  },
  {
   "cell_type": "code",
   "execution_count": null,
   "metadata": {},
   "outputs": [],
   "source": [
    "print(os.popen('pwd').read())\n",
    "\n",
    "# logging.basicConfig(format='%(asctime)s %(message)s',\n",
    "#                     filemode='w')\n",
    "logger = logging.getLogger()\n",
    "# logger.setLevel(logging.INFO)\n",
    "\n"
   ]
  },
  {
   "cell_type": "code",
   "execution_count": null,
   "metadata": {},
   "outputs": [],
   "source": [
    "fname = 'test_1.jpeg'"
   ]
  },
  {
   "cell_type": "code",
   "execution_count": null,
   "metadata": {},
   "outputs": [],
   "source": [
    "img = cv2.cvtColor( cv2.imread(fname) , cv2.COLOR_BGR2RGB)"
   ]
  },
  {
   "cell_type": "code",
   "execution_count": null,
   "metadata": {},
   "outputs": [],
   "source": [
    "plt.imshow(img)"
   ]
  },
  {
   "cell_type": "code",
   "execution_count": null,
   "metadata": {},
   "outputs": [],
   "source": [
    "MIN_FILE_SIZE = 3000\n",
    "MAX_FILE_SIZE = 1024000\n",
    "FILE_SIZE_UNITS = ['B' , 'KB' , 'MB' ]\n",
    "\n",
    "MIN_RES_WIDTH = 250\n",
    "MIN_RES_LENGTH = 80\n",
    "\n",
    "MAX_RES_WIDTH = 580\n",
    "MAX_RES_LENGTH = 180\n",
    "\n",
    "MIN_ASPECT_RATIO = 2.75\n",
    "\n",
    "MAX_ASPECT_RATIO = 3.75\n",
    "\n",
    "ALLOW_CROP = True\n",
    "\n",
    "MIN_JPEG_QUALITY = 30"
   ]
  },
  {
   "cell_type": "code",
   "execution_count": null,
   "metadata": {},
   "outputs": [],
   "source": [
    "img.shape[:2]"
   ]
  },
  {
   "cell_type": "code",
   "execution_count": null,
   "metadata": {},
   "outputs": [],
   "source": [
    "\n",
    "l ,w = img.shape[:2]\n",
    "img_aspect_ratio = w / l\n",
    "logger.info('checking aspect ratio')\n",
    "logger.info(f'image width : {w} , image height : {l} , image aspect ratio : {img_aspect_ratio}')\n",
    "if ALLOW_CROP :\n",
    "    logger.info('cropping image')\n",
    "    if img_aspect_ratio < MIN_ASPECT_RATIO :\n",
    "        logger.info(f'image aspect ratio is : {img_aspect_ratio} but allowed minimum aspect ration is {MIN_ASPECT_RATIO}')\n",
    "        del_y = math.ceil(l - (w * (1/MIN_ASPECT_RATIO)))\n",
    "        del_y_1 = del_y // 2\n",
    "        del_y_2 = del_y - del_y_1\n",
    "        img = img[ del_y_1 : l - del_y_2 , :]\n",
    "    elif img_aspect_ratio > MAX_ASPECT_RATIO :\n",
    "        logger.info(f'image aspect ratio is : {img_aspect_ratio} but allowed maximum aspect ration is {MAX_ASPECT_RATIO}')\n",
    "        del_x = math.ceil(w - (l * MAX_ASPECT_RATIO))\n",
    "        del_x_1 = del_x //2 \n",
    "        del_x_2 = del_x - del_x_1\n",
    "        img = img[ : , del_x_1 : w - del_x_2]\n",
    "    \n",
    "logger.info('checking resolution')\n",
    "l ,w = img.shape[:2]\n",
    "target_width = None\n",
    "if w < MIN_RES_WIDTH :\n",
    "    target_width = MIN_RES_WIDTH\n",
    "elif  w > MAX_RES_WIDTH :\n",
    "    target_width = MAX_RES_WIDTH\n",
    "if target_width != None : \n",
    "    l_1 = (l * target_width) // w\n",
    "    target_dim = (target_width , l_1)\n",
    "    img = cv2.resize(img, target_dim , interpolation = cv2.INTER_LINEAR)\n",
    "\n",
    "img_quality = 90    \n",
    "img_file_name = 'resized.jpg'\n",
    "img = cv2.cvtColor(img, cv2.COLOR_RGB2BGR)\n",
    "while True :\n",
    "    cv2.imwrite(img_file_name, img, [int(cv2.IMWRITE_JPEG_QUALITY), img_quality])\n",
    "    img_size = os.path.getsize(img_file_name)\n",
    "    img_quality -= 10\n",
    "    img_quality = min(img_quality,MIN_JPEG_QUALITY)\n",
    "    if img_size <= MAX_FILE_SIZE :\n",
    "        break\n"
   ]
  },
  {
   "cell_type": "code",
   "execution_count": null,
   "metadata": {},
   "outputs": [],
   "source": [
    "plt.imshow( cv2.cvtColor(img, cv2.COLOR_BGR2RGB))"
   ]
  },
  {
   "cell_type": "code",
   "execution_count": null,
   "metadata": {},
   "outputs": [],
   "source": []
  }
 ],
 "metadata": {
  "kernelspec": {
   "display_name": "Python 3",
   "language": "python",
   "name": "python3"
  },
  "language_info": {
   "codemirror_mode": {
    "name": "ipython",
    "version": 3
   },
   "file_extension": ".py",
   "mimetype": "text/x-python",
   "name": "python",
   "nbconvert_exporter": "python",
   "pygments_lexer": "ipython3",
   "version": "3.11.4"
  },
  "orig_nbformat": 4
 },
 "nbformat": 4,
 "nbformat_minor": 2
}
